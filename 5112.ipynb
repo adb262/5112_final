{
 "cells": [
  {
   "cell_type": "code",
   "execution_count": null,
   "metadata": {
    "id": "P2I3GxgHG4r2"
   },
   "outputs": [],
   "source": [
    "import numpy as np\n",
    "import pandas as pd\n",
    "import collections\n",
    "import matplotlib.pyplot as plt\n",
    "import seaborn as sns\n",
    "\n",
    "from sklearn.cluster import OPTICS, KMeans, DBSCAN\n",
    "from sklearn.metrics.cluster import adjusted_rand_score\n",
    "from sklearn.preprocessing import MinMaxScaler, StandardScaler"
   ]
  },
  {
   "cell_type": "code",
   "execution_count": null,
   "metadata": {
    "colab": {
     "base_uri": "https://localhost:8080/"
    },
    "id": "xOxZNEepHVGu",
    "outputId": "b2c462ec-5303-4601-af01-5617a463776e"
   },
   "outputs": [],
   "source": [
    "from google.colab import drive\n",
    "drive.mount('/content/drive')"
   ]
  },
  {
   "cell_type": "markdown",
   "metadata": {},
   "source": [
    "Create heatmap for genre overlaps"
   ]
  },
  {
   "cell_type": "code",
   "execution_count": null,
   "metadata": {},
   "outputs": [],
   "source": [
    "genres = list(set(df[\"genre\"]))\n",
    "genreDict = {}\n",
    "for x in range(len(genres)):\n",
    "    genreDict[genres[x]] = x\n",
    "genresHeat = np.zeros((len(genres), len(genres)))"
   ]
  },
  {
   "cell_type": "code",
   "execution_count": null,
   "metadata": {},
   "outputs": [],
   "source": [
    "last, lastG = None, None\n",
    "genresPercent = collections.defaultdict(int)\n",
    "\n",
    "for i, row in sDF.iterrows():\n",
    "    if row[\"track_name\"] == last:\n",
    "        genresPercent[(genreDict[lastG], genreDict[row[\"genre\"]])] += 1\n",
    "        genresPercent[(genreDict[row[\"genre\"]], genreDict[lastG])] += 1\n",
    "    else:\n",
    "        last = row[\"track_name\"]\n",
    "        lastG = row[\"genre\"]\n",
    "for k, v in genresPercent.items():\n",
    "    genresHeat[k[0]][k[1]] = v / len(df[df[\"genre\"] == genres[k[0]]])"
   ]
  },
  {
   "cell_type": "code",
   "execution_count": null,
   "metadata": {},
   "outputs": [],
   "source": [
    "mask = np.zeros_like(genresHeat)\n",
    "mask[np.triu_indices_from(mask)] = True\n",
    "\n",
    "with sns.axes_style(\"white\"):\n",
    "    f, ax = plt.subplots(figsize=(7, 5))\n",
    "    sns.heatmap(genresHeat, xticklabels=genres, yticklabels=genres, mask=mask)"
   ]
  },
  {
   "cell_type": "code",
   "execution_count": null,
   "metadata": {},
   "outputs": [],
   "source": [
    "groups = []\n",
    "seen = []\n",
    "for x in range(len(genresHeat)):\n",
    "    for y in range(len(genresHeat[0])):\n",
    "        if genresHeat[x][y] >= 0.15 and (genres[x], genres[y]) not in seen:\n",
    "            groups.append([genres[x], genres[y]])\n",
    "            seen.append((genres[x], genres[y]))\n",
    "            seen.append((genres[y], genres[x]))\n",
    "print(groups)"
   ]
  },
  {
   "cell_type": "code",
   "execution_count": null,
   "metadata": {
    "id": "M3aNPUrRHmYe"
   },
   "outputs": [],
   "source": [
    "#download and fix data by groups\n",
    "df = pd.read_csv(\"/content/drive/MyDrive/5112_final/SpotifyFeatures.csv\")\n",
    "df.columns\n",
    "for i, row in df.iterrows():\n",
    "    if row[\"genre\"] == 'Children’s Music':\n",
    "        df.at[i, \"genre\"] = \"Children's Music\""
   ]
  },
  {
   "cell_type": "code",
   "execution_count": null,
   "metadata": {
    "id": "60hq5Hs2Hmj7"
   },
   "outputs": [],
   "source": [
    "groups = [[\"Children's music\", \"Alternative\", \"Rock\", \"Folk\", \"Indie\"], [\"R&B\", \"Dance\", \"Soul\", \"Pop\", \"Rap\", \"Hip-Hop\"], [\"A capella\", \"Jazz\"]]"
   ]
  },
  {
   "cell_type": "code",
   "execution_count": null,
   "metadata": {
    "colab": {
     "base_uri": "https://localhost:8080/"
    },
    "id": "rSWALK8JHmuK",
    "outputId": "b99d493f-6bc1-495a-884e-332adaf9348c"
   },
   "outputs": [],
   "source": [
    "c = len(groups)\n",
    "print(groups)\n",
    "labelDict = {}\n",
    "for i, val in enumerate(groups):\n",
    "    for x in val:\n",
    "        labelDict[x] = i\n",
    "print(labelDict)\n",
    "for i, r in df.iterrows():\n",
    "    if r[\"genre\"] not in labelDict:\n",
    "        labelDict[r[\"genre\"]] = c\n",
    "        c += 1"
   ]
  },
  {
   "cell_type": "code",
   "execution_count": null,
   "metadata": {
    "id": "QYJaCazMHm4V"
   },
   "outputs": [],
   "source": [
    "#Create subDF to work with\n",
    "df2 = pd.get_dummies(df, columns=['key', 'mode'])\n",
    "df2 = df2.drop(['duration_ms', 'time_signature'], axis=1)\n",
    "genreDF = pd.concat([df2[df2[\"genre\"] == \"Hip-Hop\"], df2[df2[\"genre\"] == \"Children's Music\"][:10000], df2[df2[\"genre\"] == \"Opera\"]]).reset_index()\n",
    "labels = df2.apply(lambda row: labelDict[row[\"genre\"]], axis = 1)[:10000]\n",
    "gLabels = genreDF.apply(lambda row: labelDict[row[\"genre\"]], axis = 1)"
   ]
  },
  {
   "cell_type": "code",
   "execution_count": null,
   "metadata": {
    "id": "LwNsa8HEJjpx"
   },
   "outputs": [],
   "source": [
    "scaler = MinMaxScaler()\n",
    "data = genreDF[cols].to_numpy()\n",
    "data = scaler.fit_transform(data)"
   ]
  },
  {
   "cell_type": "code",
   "execution_count": null,
   "metadata": {
    "colab": {
     "base_uri": "https://localhost:8080/"
    },
    "id": "QOB8zrYjHBSm",
    "outputId": "384b84a3-60f2-44c1-d1e8-37f6b1d5d2e0"
   },
   "outputs": [],
   "source": [
    "opticsRandScores = []\n",
    "minSamples = [50, 100, 200, 400, 800, 1000, 2000]\n",
    "cols = genreDF.columns[5:15]\n",
    "heatmap = np.zeros((10, 10))\n",
    "\n",
    "seen = {}\n",
    "\"\"\"\n",
    "#Find optimal clusterings\n",
    "for x in range(5, 15):\n",
    "    for y in range(5, 15):\n",
    "        if x == y:\n",
    "            continue\n",
    "        if (x, y) in seen or (y, x) in seen:\n",
    "            heatmap[x - 5][y - 5] = seen[(x, y)]\n",
    "            continue\n",
    "        #scaler = StandardScaler()\n",
    "        d3 = data[:, [x - 5, y - 5]]\n",
    "        #kmeans = DBSCAN(eps=0.1, min_samples=600).fit_predict(d3)\n",
    "        #kmeans = OPTICS(eps=0.1, min_samples=600).fit_predict(d3)\n",
    "        kmeans = KMeans(n_clusters = 3, init='k-means++', n_init=26).fit_predict(data)\n",
    "        s = adjusted_rand_score(gLabels, kmeans)\n",
    "        heatmap[x - 5][y - 5] = s\n",
    "        seen[(x, y)] = s\n",
    "        seen[(y, x)] = s\n",
    "        print(s)\n",
    "#Work with OPTICS/DBSCAN\n",
    "for x in minSamples:\n",
    "    d3 = data[:, [0, 2]]\n",
    "    kmeans = DBSCAN(min_samples=x).fit_predict(d3)\n",
    "    kmeans = OPTICS(min_samples=x).fit_predict(d3)\n",
    "    s = adjusted_rand_score(gLabels, kmeans)\n",
    "    opticsRandScores.append(s)\n",
    "    print(s)\n",
    "\"\"\""
   ]
  },
  {
   "cell_type": "code",
   "execution_count": null,
   "metadata": {
    "colab": {
     "base_uri": "https://localhost:8080/",
     "height": 312
    },
    "id": "mmxju_Y-Rmuk",
    "outputId": "571c743d-6260-48f0-c17c-f90e87b688b2"
   },
   "outputs": [],
   "source": [
    "plt.plot(minSamples, [0.21503370910119335, 0.03757034165012847, 0.007834085584663865, 0, 0, 0, 0])\n",
    "plt.xlabel(\"Min Samples\")\n",
    "plt.ylabel(\"Rand Score\")\n",
    "plt.title(\"OPTICS\")\n",
    "plt.plot()"
   ]
  },
  {
   "cell_type": "code",
   "execution_count": null,
   "metadata": {
    "colab": {
     "base_uri": "https://localhost:8080/",
     "height": 397
    },
    "id": "R9NQl4M9I6go",
    "outputId": "8299bfd7-21b0-4fda-ecab-1ad44b78f076"
   },
   "outputs": [],
   "source": [
    "mask = np.zeros_like(heatmap)\n",
    "mask[np.triu_indices_from(mask)] = True\n",
    "\n",
    "with sns.axes_style(\"white\"):\n",
    "    f, ax = plt.subplots(figsize=(7, 5))\n",
    "    sns.heatmap(heatmap, xticklabels=genreDF.columns[5:15], yticklabels=genreDF.columns[5:15], mask=mask, )"
   ]
  },
  {
   "cell_type": "code",
   "execution_count": null,
   "metadata": {
    "colab": {
     "base_uri": "https://localhost:8080/",
     "height": 516
    },
    "id": "EICXX0bmPQqj",
    "outputId": "c19b37c1-b18f-4439-dc95-13121d0c1e87"
   },
   "outputs": [],
   "source": [
    "x = \"popularity\"\n",
    "y = \"valence\"\n",
    "print(labels)\n",
    "scatterColors = ['black', 'green', 'red', 'purple',\n",
    "                     'orange', 'yellow', 'aqua', 'forestgreen', 'slategrey', 'magenta', 'pink']\n",
    "helper = {\"Hip-Hop\": 0, \"Children's music\": 1, \"Opera\": 2}\n",
    "\n",
    "f = genreDF[genreDF[\"genre\"] == \"Hip-Hop\"]\n",
    "p = genreDF[genreDF[\"genre\"] == \"Children's Music\"]\n",
    "j = genreDF[genreDF[\"genre\"] == \"Opera\"]\n",
    "plt.scatter(f[x].to_numpy(), f[y].to_numpy(), c = \"red\", label=\"Hip-Hop\", alpha=0.3)\n",
    "plt.scatter(p[x].to_numpy(), p[y].to_numpy(), c = \"blue\", label=\"Children's music\", alpha=0.3)\n",
    "plt.scatter(j[x].to_numpy(), j[y].to_numpy(), c = \"green\", label=\"Opera\", alpha=0.3)\n",
    "\n",
    "plt.legend()\n",
    "plt.xlabel(x)\n",
    "plt.ylabel(y)\n",
    "plt.title(\"Genre Distributions\")\n",
    "plt.plot()"
   ]
  },
  {
   "cell_type": "code",
   "execution_count": null,
   "metadata": {
    "id": "zRVuznRzTts8"
   },
   "outputs": [],
   "source": [
    "def plotRes(data, clusterRes, clusterNum):\n",
    "    nPoints = len(data)\n",
    "    scatterColors = ['black', 'green', 'brown', 'red', 'purple',\n",
    "                     'orange', 'yellow', 'aqua', 'forestgreen', 'slategrey', 'magenta', 'pink']\n",
    "    for i in range(min(clusterRes), clusterNum):\n",
    "        if (i==0):\n",
    "            #Plot all noise point as blue\n",
    "            color='blue'\n",
    "        else:\n",
    "            color = scatterColors[i % len(scatterColors)]\n",
    "        x1 = [];  y1 = []\n",
    "        for j in range(nPoints):\n",
    "            if clusterRes[j] == i:\n",
    "                x1.append(data[j, 0])\n",
    "                y1.append(data[j, 1])\n",
    "        plt.scatter(x1, y1, c=color, alpha=0.3, marker='.')\n",
    "    plt.title(\"Kmeans\")\n",
    "    plt.xlabel(\"popularity\")\n",
    "    plt.ylabel(\"valence\")"
   ]
  },
  {
   "cell_type": "code",
   "execution_count": null,
   "metadata": {
    "colab": {
     "base_uri": "https://localhost:8080/"
    },
    "id": "HI6enwiWeNWc",
    "outputId": "5ef7d9c2-86c2-48f5-9074-ae7e68973192"
   },
   "outputs": [],
   "source": [
    "kmeans = KMeans(n_clusters = 3, init='k-means++', n_init=26).fit_predict(data[:, [0, -1]])\n",
    "#kmeans = OPTICS(eps=0.3, min_samples=500).fit_predict(data[:, [0, 2]])\n",
    "s = adjusted_rand_score(gLabels, kmeans)\n",
    "print(s)"
   ]
  },
  {
   "cell_type": "code",
   "execution_count": null,
   "metadata": {
    "colab": {
     "base_uri": "https://localhost:8080/",
     "height": 295
    },
    "id": "uWZF-1jXWC5U",
    "outputId": "73795908-b512-4ff4-93fc-243a855e6870"
   },
   "outputs": [],
   "source": [
    "plotRes(data[:, [0, -1]], kmeans, max(kmeans) + 1)"
   ]
  },
  {
   "cell_type": "code",
   "execution_count": null,
   "metadata": {
    "colab": {
     "base_uri": "https://localhost:8080/"
    },
    "id": "R-4F9WGBWIzz",
    "outputId": "352757a6-7e6f-408a-fd4a-5e3e00e7dcab"
   },
   "outputs": [],
   "source": [
    "#Our own implementation of dbscan\n",
    "class DBScan():\n",
    "    def __init__(self, data, eps, minpts):\n",
    "        self.epsilon = eps\n",
    "        self.minpts = minpts\n",
    "        self.data = data\n",
    "        \n",
    "    def pointsWithin(self, index, point):\n",
    "        cluster = []\n",
    "        for i, val in enumerate(self.data):\n",
    "            if i == index:\n",
    "                continue\n",
    "            if np.linalg.norm(point - val) <= self.epsilon:\n",
    "                cluster.append(i)\n",
    "        \n",
    "        return cluster\n",
    "        \n",
    "    def dbscan(self):\n",
    "        pointLabels = [\"noise\"] * len(self.data)\n",
    "        pointClusters = {}\n",
    "        visited = collections.defaultdict(bool)\n",
    "        for i, point in enumerate(self.data):\n",
    "            if visited[i]:\n",
    "                continue\n",
    "            visited[i] = True\n",
    "            cluster = self.pointsWithin(i, point)\n",
    "            edge = False\n",
    "            if len(cluster) >= self.minpts:\n",
    "                for ind in cluster:\n",
    "                    visited[ind] = True\n",
    "                pointLabels[i] = \"core\"\n",
    "            else:\n",
    "                for ind in cluster:\n",
    "                    if pointLabels[ind] == \"core\":\n",
    "                        pointLabels[i] = \"border\"\n",
    "                        edge = True\n",
    "                        break\n",
    "                if not edge:\n",
    "                    pointClusters[i] = cluster + [i]\n",
    "\n",
    "        return pointClusters"
   ]
  },
  {
   "cell_type": "code",
   "execution_count": null,
   "metadata": {
    "id": "KKAwUdlOiJrt"
   },
   "outputs": [],
   "source": []
  }
 ],
 "metadata": {
  "accelerator": "GPU",
  "colab": {
   "name": "5112.ipynb",
   "provenance": []
  },
  "kernelspec": {
   "display_name": "Python 3",
   "language": "python",
   "name": "python3"
  },
  "language_info": {
   "codemirror_mode": {
    "name": "ipython",
    "version": 3
   },
   "file_extension": ".py",
   "mimetype": "text/x-python",
   "name": "python",
   "nbconvert_exporter": "python",
   "pygments_lexer": "ipython3",
   "version": "3.7.4"
  }
 },
 "nbformat": 4,
 "nbformat_minor": 1
}
